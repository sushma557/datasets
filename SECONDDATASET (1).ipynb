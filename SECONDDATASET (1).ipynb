{
 "cells": [
  {
   "cell_type": "code",
   "execution_count": 1,
   "metadata": {},
   "outputs": [
    {
     "name": "stdout",
     "output_type": "stream",
     "text": [
      "Requirement already satisfied: faker in /Users/varunvaddi/opt/anaconda3/lib/python3.7/site-packages (8.11.0)\n",
      "Requirement already satisfied: python-dateutil>=2.4 in /Users/varunvaddi/opt/anaconda3/lib/python3.7/site-packages (from faker) (2.8.0)\n",
      "Requirement already satisfied: text-unidecode==1.3 in /Users/varunvaddi/opt/anaconda3/lib/python3.7/site-packages (from faker) (1.3)\n",
      "Requirement already satisfied: six>=1.5 in /Users/varunvaddi/opt/anaconda3/lib/python3.7/site-packages (from python-dateutil>=2.4->faker) (1.15.0)\n",
      "\u001b[33mWARNING: You are using pip version 21.0.1; however, version 21.2.4 is available.\n",
      "You should consider upgrading via the '/Users/varunvaddi/opt/anaconda3/bin/python -m pip install --upgrade pip' command.\u001b[0m\n",
      "Note: you may need to restart the kernel to use updated packages.\n"
     ]
    }
   ],
   "source": [
    "pip install faker"
   ]
  },
  {
   "cell_type": "code",
   "execution_count": 2,
   "metadata": {},
   "outputs": [],
   "source": [
    "import pandas as pnds\n",
    "import numpy as npy\n",
    "import faker\n",
    "import datetime as dtm\n",
    "from matplotlib import pyplot\n",
    "from statsmodels.tsa.arima_model import ARIMA\n",
    "from sklearn.metrics import mean_squared_error\n",
    "from math import sqrt\n",
    "import matplotlib.pyplot as plt\n",
    "%matplotlib inline"
   ]
  },
  {
   "cell_type": "code",
   "execution_count": 3,
   "metadata": {},
   "outputs": [],
   "source": [
    "from faker import Faker"
   ]
  },
  {
   "cell_type": "code",
   "execution_count": 4,
   "metadata": {},
   "outputs": [],
   "source": [
    "create = Faker()"
   ]
  },
  {
   "cell_type": "code",
   "execution_count": 5,
   "metadata": {},
   "outputs": [],
   "source": [
    "#Defining a function Names to create names and generating 50,000 records\n",
    "def Names(s):\n",
    "    Name = []\n",
    "    for _ in range(0, s):\n",
    "        Name.append(create.name())\n",
    "    return Name\n",
    "Name = Names(50000)"
   ]
  },
  {
   "cell_type": "code",
   "execution_count": 6,
   "metadata": {},
   "outputs": [],
   "source": [
    "#Creating another feature called \"age\" having 50000 random records \n",
    "Age = npy.random.randint(18, 100, size = 50000, dtype = 'int')"
   ]
  },
  {
   "cell_type": "code",
   "execution_count": 7,
   "metadata": {},
   "outputs": [],
   "source": [
    "#Creating another feature called \"NHSNumber\" having 50000 random records \n",
    "NHSNumber= npy.random.randint(200000, 300000 , size = 50000, dtype = 'int')"
   ]
  },
  {
   "cell_type": "code",
   "execution_count": 8,
   "metadata": {},
   "outputs": [],
   "source": [
    "#Defining a function called Address to create names and generating 50,000 records\n",
    "def Addr(u):\n",
    "    Address = []\n",
    "    for _ in range(0, u):\n",
    "        Address.append(create.address())\n",
    "    return Address\n",
    "Address = Addr(50000)"
   ]
  },
  {
   "cell_type": "code",
   "execution_count": 19,
   "metadata": {},
   "outputs": [],
   "source": [
    "#Defining a function called CountyUK to create names and generating 50,000 records\n",
    "def CountyUK(h):\n",
    "    county = []\n",
    "    for _ in range(0,h):\n",
    "        county.append(create.random_element(elements = (\"Bath and North East Somerset\",\"Bedfordshire\",\"Berkshire\",\"Bristol\",\n",
    "                                                        \"Buckinghamshire\")))\n",
    "    return county\n",
    "county = CountyUK(50000)"
   ]
  },
  {
   "cell_type": "code",
   "execution_count": 17,
   "metadata": {},
   "outputs": [],
   "source": [
    "start = '2021-01-10' \n",
    "end = '2021-08-01' \n",
    "n = 50000 \n",
    "x = npy.random.randint(pnds.Timestamp(start).value, pnds.Timestamp(end).value,n)\n",
    "random_dates = [pnds.to_datetime((i/10**9)/(60*60)/24, unit='D').strftime('%Y-%m-%d')  for i in x]"
   ]
  },
  {
   "cell_type": "code",
   "execution_count": 20,
   "metadata": {},
   "outputs": [],
   "source": [
    "#VBS = pnds.DataFrame(list(zip(Name, Age, NHSNumber, Address, county, random_dates)),\n",
    "                  columns = ['Name', 'Age', 'NHS Number', 'Address', 'Vaccination center', 'FirstDoseTimeStamp'])\n"
   ]
  },
  {
   "cell_type": "code",
   "execution_count": 21,
   "metadata": {},
   "outputs": [
    {
     "data": {
      "text/html": [
       "<div>\n",
       "<style scoped>\n",
       "    .dataframe tbody tr th:only-of-type {\n",
       "        vertical-align: middle;\n",
       "    }\n",
       "\n",
       "    .dataframe tbody tr th {\n",
       "        vertical-align: top;\n",
       "    }\n",
       "\n",
       "    .dataframe thead th {\n",
       "        text-align: right;\n",
       "    }\n",
       "</style>\n",
       "<table border=\"1\" class=\"dataframe\">\n",
       "  <thead>\n",
       "    <tr style=\"text-align: right;\">\n",
       "      <th></th>\n",
       "      <th>Name</th>\n",
       "      <th>Age</th>\n",
       "      <th>NHS Number</th>\n",
       "      <th>Address</th>\n",
       "      <th>Vaccination center</th>\n",
       "      <th>FirstDoseTimeStamp</th>\n",
       "    </tr>\n",
       "  </thead>\n",
       "  <tbody>\n",
       "    <tr>\n",
       "      <td>0</td>\n",
       "      <td>Mr. David Wright DDS</td>\n",
       "      <td>84</td>\n",
       "      <td>250287</td>\n",
       "      <td>42202 Lang Harbors Apt. 734\\nWest Joshuamouth,...</td>\n",
       "      <td>Bedfordshire</td>\n",
       "      <td>2021-01-15</td>\n",
       "    </tr>\n",
       "    <tr>\n",
       "      <td>1</td>\n",
       "      <td>Robert Rojas</td>\n",
       "      <td>73</td>\n",
       "      <td>257562</td>\n",
       "      <td>08941 Paula Roads\\nWoodston, IL 44603</td>\n",
       "      <td>Bedfordshire</td>\n",
       "      <td>2021-07-27</td>\n",
       "    </tr>\n",
       "    <tr>\n",
       "      <td>2</td>\n",
       "      <td>Michelle Taylor</td>\n",
       "      <td>61</td>\n",
       "      <td>258164</td>\n",
       "      <td>56474 Jessica Orchard Apt. 867\\nWest Christian...</td>\n",
       "      <td>Bath and North East Somerset</td>\n",
       "      <td>2021-05-31</td>\n",
       "    </tr>\n",
       "    <tr>\n",
       "      <td>3</td>\n",
       "      <td>Crystal Matthews</td>\n",
       "      <td>37</td>\n",
       "      <td>280526</td>\n",
       "      <td>98606 Fox Ridge Apt. 017\\nMonicatown, CA 59120</td>\n",
       "      <td>Berkshire</td>\n",
       "      <td>2021-03-21</td>\n",
       "    </tr>\n",
       "    <tr>\n",
       "      <td>4</td>\n",
       "      <td>Steven Burns</td>\n",
       "      <td>59</td>\n",
       "      <td>237861</td>\n",
       "      <td>738 Mitchell Avenue\\nCannonchester, OR 67942</td>\n",
       "      <td>Bath and North East Somerset</td>\n",
       "      <td>2021-03-17</td>\n",
       "    </tr>\n",
       "  </tbody>\n",
       "</table>\n",
       "</div>"
      ],
      "text/plain": [
       "                   Name  Age  NHS Number  \\\n",
       "0  Mr. David Wright DDS   84      250287   \n",
       "1          Robert Rojas   73      257562   \n",
       "2       Michelle Taylor   61      258164   \n",
       "3      Crystal Matthews   37      280526   \n",
       "4          Steven Burns   59      237861   \n",
       "\n",
       "                                             Address  \\\n",
       "0  42202 Lang Harbors Apt. 734\\nWest Joshuamouth,...   \n",
       "1              08941 Paula Roads\\nWoodston, IL 44603   \n",
       "2  56474 Jessica Orchard Apt. 867\\nWest Christian...   \n",
       "3     98606 Fox Ridge Apt. 017\\nMonicatown, CA 59120   \n",
       "4       738 Mitchell Avenue\\nCannonchester, OR 67942   \n",
       "\n",
       "             Vaccination center FirstDoseTimeStamp  \n",
       "0                  Bedfordshire         2021-01-15  \n",
       "1                  Bedfordshire         2021-07-27  \n",
       "2  Bath and North East Somerset         2021-05-31  \n",
       "3                     Berkshire         2021-03-21  \n",
       "4  Bath and North East Somerset         2021-03-17  "
      ]
     },
     "execution_count": 21,
     "metadata": {},
     "output_type": "execute_result"
    }
   ],
   "source": [
    "VBS.head()"
   ]
  },
  {
   "cell_type": "code",
   "execution_count": 22,
   "metadata": {},
   "outputs": [],
   "source": [
    "VBS.to_csv('VBS_final.csv')"
   ]
  },
  {
   "cell_type": "code",
   "execution_count": 23,
   "metadata": {},
   "outputs": [],
   "source": [
    "VBS = pnds.read_csv('VBS_final.csv')"
   ]
  },
  {
   "cell_type": "code",
   "execution_count": 24,
   "metadata": {},
   "outputs": [],
   "source": [
    "VBS[\"FirstDoseTimeStamp\"] = pnds.to_datetime(VBS[\"FirstDoseTimeStamp\"],format=\"%Y-%m-%d\")\n",
    "VBS[\"SecondDoseDate\"] = VBS[\"FirstDoseTimeStamp\"]+ pnds.DateOffset(days=56)\n"
   ]
  },
  {
   "cell_type": "code",
   "execution_count": 25,
   "metadata": {},
   "outputs": [],
   "source": [
    "VBS.drop(['Unnamed: 0','Address'], inplace=True, axis=1)"
   ]
  },
  {
   "cell_type": "code",
   "execution_count": 26,
   "metadata": {},
   "outputs": [],
   "source": [
    "VBS['FirstDoseMonth'] = VBS['FirstDoseTimeStamp'].dt.month\n",
    "VBS['FirstDoseYear'] = VBS['FirstDoseTimeStamp'].dt.year\n",
    "\n",
    "VBS['SecondDoseMonth'] = VBS['SecondDoseDate'].dt.month\n",
    "VBS['SecondDoseYear'] = VBS['SecondDoseDate'].dt.year"
   ]
  },
  {
   "cell_type": "code",
   "execution_count": null,
   "metadata": {},
   "outputs": [],
   "source": [
    "import calendar\n",
    "VBS['FirstDoseMonthName'] = VBS['FirstDoseMonth'].apply(lambda x: calendar.month_name[x])\n",
    "VBS['SecondDoseMonthName'] = VBS['SecondDoseMonth'].apply(lambda x: calendar.month_name[x])"
   ]
  },
  {
   "cell_type": "code",
   "execution_count": null,
   "metadata": {},
   "outputs": [],
   "source": [
    "VBS.drop(['FirstDoseMonth','SecondDoseMonth'], inplace=True, axis=1)"
   ]
  },
  {
   "cell_type": "code",
   "execution_count": 31,
   "metadata": {},
   "outputs": [],
   "source": [
    "VBS.drop(['FirstDoseYear','SecondDoseYear', 'FirstDoseMonthName','SecondDoseMonthName' ], inplace=True, axis=1)"
   ]
  },
  {
   "cell_type": "code",
   "execution_count": 32,
   "metadata": {},
   "outputs": [
    {
     "data": {
      "text/plain": [
       "Index(['Name', 'Age', 'NHS Number', 'Vaccination center', 'FirstDoseTimeStamp',\n",
       "       'SecondDoseDate'],\n",
       "      dtype='object')"
      ]
     },
     "execution_count": 32,
     "metadata": {},
     "output_type": "execute_result"
    }
   ],
   "source": [
    "VBS.columns"
   ]
  },
  {
   "cell_type": "code",
   "execution_count": 33,
   "metadata": {},
   "outputs": [
    {
     "data": {
      "text/plain": [
       "Bedfordshire                    10077\n",
       "Bath and North East Somerset    10028\n",
       "Bristol                         10016\n",
       "Buckinghamshire                  9959\n",
       "Berkshire                        9920\n",
       "Name: Vaccination center, dtype: int64"
      ]
     },
     "execution_count": 33,
     "metadata": {},
     "output_type": "execute_result"
    }
   ],
   "source": [
    "VBS[\"Vaccination center\"].value_counts()"
   ]
  },
  {
   "cell_type": "code",
   "execution_count": 35,
   "metadata": {},
   "outputs": [
    {
     "data": {
      "text/html": [
       "<div>\n",
       "<style scoped>\n",
       "    .dataframe tbody tr th:only-of-type {\n",
       "        vertical-align: middle;\n",
       "    }\n",
       "\n",
       "    .dataframe tbody tr th {\n",
       "        vertical-align: top;\n",
       "    }\n",
       "\n",
       "    .dataframe thead th {\n",
       "        text-align: right;\n",
       "    }\n",
       "</style>\n",
       "<table border=\"1\" class=\"dataframe\">\n",
       "  <thead>\n",
       "    <tr style=\"text-align: right;\">\n",
       "      <th></th>\n",
       "      <th>Name</th>\n",
       "      <th>Age</th>\n",
       "      <th>NHS Number</th>\n",
       "      <th>FirstDoseTimeStamp</th>\n",
       "      <th>SecondDoseDate</th>\n",
       "    </tr>\n",
       "  </thead>\n",
       "  <tbody>\n",
       "    <tr>\n",
       "      <td>0</td>\n",
       "      <td>Crystal Matthews</td>\n",
       "      <td>37</td>\n",
       "      <td>280526</td>\n",
       "      <td>2021-03-21</td>\n",
       "      <td>2021-05-16</td>\n",
       "    </tr>\n",
       "    <tr>\n",
       "      <td>1</td>\n",
       "      <td>Mrs. Emily Donovan</td>\n",
       "      <td>86</td>\n",
       "      <td>283405</td>\n",
       "      <td>2021-06-05</td>\n",
       "      <td>2021-07-31</td>\n",
       "    </tr>\n",
       "    <tr>\n",
       "      <td>2</td>\n",
       "      <td>Samuel Holland</td>\n",
       "      <td>20</td>\n",
       "      <td>251303</td>\n",
       "      <td>2021-05-22</td>\n",
       "      <td>2021-07-17</td>\n",
       "    </tr>\n",
       "    <tr>\n",
       "      <td>3</td>\n",
       "      <td>Dustin Larson</td>\n",
       "      <td>52</td>\n",
       "      <td>290568</td>\n",
       "      <td>2021-02-19</td>\n",
       "      <td>2021-04-16</td>\n",
       "    </tr>\n",
       "    <tr>\n",
       "      <td>4</td>\n",
       "      <td>Jessica Douglas</td>\n",
       "      <td>78</td>\n",
       "      <td>233212</td>\n",
       "      <td>2021-03-23</td>\n",
       "      <td>2021-05-18</td>\n",
       "    </tr>\n",
       "    <tr>\n",
       "      <td>...</td>\n",
       "      <td>...</td>\n",
       "      <td>...</td>\n",
       "      <td>...</td>\n",
       "      <td>...</td>\n",
       "      <td>...</td>\n",
       "    </tr>\n",
       "    <tr>\n",
       "      <td>9915</td>\n",
       "      <td>Matthew Larsen</td>\n",
       "      <td>58</td>\n",
       "      <td>262678</td>\n",
       "      <td>2021-05-09</td>\n",
       "      <td>2021-07-04</td>\n",
       "    </tr>\n",
       "    <tr>\n",
       "      <td>9916</td>\n",
       "      <td>David Rosales</td>\n",
       "      <td>80</td>\n",
       "      <td>235492</td>\n",
       "      <td>2021-05-24</td>\n",
       "      <td>2021-07-19</td>\n",
       "    </tr>\n",
       "    <tr>\n",
       "      <td>9917</td>\n",
       "      <td>Margaret Mills</td>\n",
       "      <td>82</td>\n",
       "      <td>204536</td>\n",
       "      <td>2021-04-23</td>\n",
       "      <td>2021-06-18</td>\n",
       "    </tr>\n",
       "    <tr>\n",
       "      <td>9918</td>\n",
       "      <td>Amanda Duncan</td>\n",
       "      <td>35</td>\n",
       "      <td>200442</td>\n",
       "      <td>2021-01-30</td>\n",
       "      <td>2021-03-27</td>\n",
       "    </tr>\n",
       "    <tr>\n",
       "      <td>9919</td>\n",
       "      <td>Megan Simon</td>\n",
       "      <td>22</td>\n",
       "      <td>299995</td>\n",
       "      <td>2021-02-18</td>\n",
       "      <td>2021-04-15</td>\n",
       "    </tr>\n",
       "  </tbody>\n",
       "</table>\n",
       "<p>9920 rows × 5 columns</p>\n",
       "</div>"
      ],
      "text/plain": [
       "                    Name  Age  NHS Number FirstDoseTimeStamp SecondDoseDate\n",
       "0       Crystal Matthews   37      280526         2021-03-21     2021-05-16\n",
       "1     Mrs. Emily Donovan   86      283405         2021-06-05     2021-07-31\n",
       "2         Samuel Holland   20      251303         2021-05-22     2021-07-17\n",
       "3          Dustin Larson   52      290568         2021-02-19     2021-04-16\n",
       "4        Jessica Douglas   78      233212         2021-03-23     2021-05-18\n",
       "...                  ...  ...         ...                ...            ...\n",
       "9915      Matthew Larsen   58      262678         2021-05-09     2021-07-04\n",
       "9916       David Rosales   80      235492         2021-05-24     2021-07-19\n",
       "9917      Margaret Mills   82      204536         2021-04-23     2021-06-18\n",
       "9918       Amanda Duncan   35      200442         2021-01-30     2021-03-27\n",
       "9919         Megan Simon   22      299995         2021-02-18     2021-04-15\n",
       "\n",
       "[9920 rows x 5 columns]"
      ]
     },
     "execution_count": 35,
     "metadata": {},
     "output_type": "execute_result"
    }
   ],
   "source": [
    "VC_Berkshire=VBS[VBS[\"Vaccination center\"]==\"Berkshire\"].reset_index(drop=True)\n",
    "VC_Berkshire=VC_Berkshire.drop(columns=\"Vaccination center\")\n",
    "VC_Berkshire"
   ]
  },
  {
   "cell_type": "code",
   "execution_count": 36,
   "metadata": {},
   "outputs": [],
   "source": [
    "VC_Berkshire_Dates=pnds.DatetimeIndex(VC_Berkshire[\"FirstDoseTimeStamp\"]).to_period(\"D\")"
   ]
  },
  {
   "cell_type": "code",
   "execution_count": 38,
   "metadata": {},
   "outputs": [
    {
     "data": {
      "text/plain": [
       "PeriodIndex(['2021-03-21', '2021-06-05', '2021-05-22', '2021-02-19',\n",
       "             '2021-03-23', '2021-02-19', '2021-05-19', '2021-01-15',\n",
       "             '2021-04-13', '2021-07-17',\n",
       "             ...\n",
       "             '2021-04-23', '2021-03-24', '2021-02-06', '2021-05-18',\n",
       "             '2021-03-20', '2021-05-09', '2021-05-24', '2021-04-23',\n",
       "             '2021-01-30', '2021-02-18'],\n",
       "            dtype='period[D]', name='FirstDoseTimeStamp', length=9920, freq='D')"
      ]
     },
     "execution_count": 38,
     "metadata": {},
     "output_type": "execute_result"
    }
   ],
   "source": [
    "VC_Berkshire_Dates"
   ]
  },
  {
   "cell_type": "code",
   "execution_count": 41,
   "metadata": {},
   "outputs": [
    {
     "data": {
      "text/plain": [
       "203"
      ]
     },
     "execution_count": 41,
     "metadata": {},
     "output_type": "execute_result"
    }
   ],
   "source": [
    "VC_Berkshire_Dates_ts=VC_Berkshire_Dates.value_counts().sort_index()\n",
    "len(VC_Berkshire_Dates_ts)"
   ]
  },
  {
   "cell_type": "code",
   "execution_count": 44,
   "metadata": {},
   "outputs": [
    {
     "data": {
      "text/plain": [
       "203"
      ]
     },
     "execution_count": 44,
     "metadata": {},
     "output_type": "execute_result"
    }
   ],
   "source": [
    "Train = VC_Berkshire_Dates_ts[0:int(0.7*len(VC_Berkshire_Dates_ts))]\n",
    "Test = VC_Berkshire_Dates_ts[int(0.7*len(VC_Berkshire_Dates_ts)): len(VC_Berkshire_Dates_ts)]\n",
    "len(VC_Berkshire_Dates_ts)"
   ]
  },
  {
   "cell_type": "code",
   "execution_count": 45,
   "metadata": {},
   "outputs": [
    {
     "name": "stdout",
     "output_type": "stream",
     "text": [
      "(142,)\n",
      "(61,)\n"
     ]
    }
   ],
   "source": [
    "print(Train.shape)\n",
    "print(Test.shape)"
   ]
  },
  {
   "cell_type": "code",
   "execution_count": 46,
   "metadata": {},
   "outputs": [
    {
     "data": {
      "text/plain": [
       "array([50, 60, 44, 45, 43, 47, 63, 49, 52, 47, 51, 50, 52, 58, 45, 52, 59,\n",
       "       49, 48, 50, 52, 45, 42, 55, 53, 57, 47, 48, 66, 36, 52, 42, 47, 44,\n",
       "       55, 43, 47, 62, 53, 49, 49, 42, 41, 44, 46, 58, 47, 49, 71, 42, 37,\n",
       "       38, 43, 41, 47, 62, 62, 53, 48, 51, 49, 40, 41, 40, 45, 55, 50, 63,\n",
       "       48, 50, 50, 44, 39, 52, 47, 49, 54, 49, 53, 56, 41, 50, 51, 49, 55,\n",
       "       45, 36, 49, 43, 54, 40, 52, 46, 66, 46, 49, 38, 55, 49, 39, 51, 46,\n",
       "       49, 50, 47, 47, 51, 58, 54, 44, 48, 46, 35, 52, 50, 52, 35, 49, 51,\n",
       "       45, 48, 53, 44, 41, 49, 45, 56, 52, 45, 39, 45, 51, 43, 44, 63, 42,\n",
       "       50, 52, 48, 47, 43, 48, 48, 49, 53, 45, 44, 47, 54, 48, 50, 56, 58,\n",
       "       46, 53, 47, 47, 57, 49, 68, 44, 47, 52, 44, 56, 47, 51, 51, 46, 46,\n",
       "       51, 39, 37, 45, 44, 48, 50, 47, 42, 50, 47, 41, 54, 57, 56, 58, 47,\n",
       "       44, 50, 45, 50, 52, 34, 59, 55, 52, 50, 49, 55, 54, 40, 51, 49])"
      ]
     },
     "execution_count": 46,
     "metadata": {},
     "output_type": "execute_result"
    }
   ],
   "source": [
    "Data = VC_Berkshire_Dates_ts.values\n",
    "Data"
   ]
  },
  {
   "cell_type": "code",
   "execution_count": 49,
   "metadata": {},
   "outputs": [],
   "source": [
    "historical_data =[Data for Data in Train]\n",
    "predictions = []"
   ]
  },
  {
   "cell_type": "code",
   "execution_count": 50,
   "metadata": {},
   "outputs": [
    {
     "name": "stdout",
     "output_type": "stream",
     "text": [
      "                             ARIMA Model Results                              \n",
      "==============================================================================\n",
      "Dep. Variable:                    D.y   No. Observations:                  141\n",
      "Model:                 ARIMA(5, 1, 0)   Log Likelihood                -483.975\n",
      "Method:                       css-mle   S.D. of innovations              7.470\n",
      "Date:                Fri, 27 Aug 2021   AIC                            981.950\n",
      "Time:                        11:33:42   BIC                           1002.591\n",
      "Sample:                             1   HQIC                           990.338\n",
      "                                                                              \n",
      "==============================================================================\n",
      "                 coef    std err          z      P>|z|      [0.025      0.975]\n",
      "------------------------------------------------------------------------------\n",
      "const         -0.0244      0.219     -0.111      0.911      -0.454       0.405\n",
      "ar.L1.D.y     -0.7346      0.083     -8.830      0.000      -0.898      -0.572\n",
      "ar.L2.D.y     -0.5051      0.103     -4.882      0.000      -0.708      -0.302\n",
      "ar.L3.D.y     -0.3264      0.109     -3.002      0.003      -0.539      -0.113\n",
      "ar.L4.D.y     -0.1981      0.103     -1.918      0.057      -0.401       0.004\n",
      "ar.L5.D.y     -0.1400      0.083     -1.678      0.096      -0.303       0.023\n",
      "                                    Roots                                    \n",
      "=============================================================================\n",
      "                  Real          Imaginary           Modulus         Frequency\n",
      "-----------------------------------------------------------------------------\n",
      "AR.1           -1.4401           -0.0000j            1.4401           -0.5000\n",
      "AR.2           -0.7167           -1.2756j            1.4632           -0.3315\n",
      "AR.3           -0.7167           +1.2756j            1.4632            0.3315\n",
      "AR.4            0.7292           -1.3362j            1.5222           -0.1705\n",
      "AR.5            0.7292           +1.3362j            1.5222            0.1705\n",
      "-----------------------------------------------------------------------------\n"
     ]
    }
   ],
   "source": [
    "model = ARIMA(historical_data, order=(5,1,0))\n",
    "model_fit = model.fit()\n",
    "print(model_fit.summary())"
   ]
  },
  {
   "cell_type": "code",
   "execution_count": 52,
   "metadata": {},
   "outputs": [
    {
     "name": "stdout",
     "output_type": "stream",
     "text": [
      "61\n"
     ]
    }
   ],
   "source": [
    "print(len(Test))"
   ]
  },
  {
   "cell_type": "code",
   "execution_count": 58,
   "metadata": {},
   "outputs": [
    {
     "name": "stdout",
     "output_type": "stream",
     "text": [
      "predicted=47.841862, expected=48.000000\n",
      "predicted=47.823466, expected=49.000000\n",
      "predicted=48.991109, expected=53.000000\n",
      "predicted=49.844483, expected=45.000000\n",
      "predicted=48.829443, expected=44.000000\n",
      "predicted=47.491478, expected=47.000000\n",
      "predicted=46.474804, expected=54.000000\n",
      "predicted=47.812614, expected=48.000000\n",
      "predicted=48.740957, expected=50.000000\n",
      "predicted=50.025888, expected=56.000000\n",
      "predicted=51.795590, expected=58.000000\n",
      "predicted=53.684527, expected=46.000000\n",
      "predicted=52.743664, expected=53.000000\n",
      "predicted=52.945300, expected=47.000000\n",
      "predicted=50.192879, expected=47.000000\n",
      "predicted=48.449298, expected=57.000000\n",
      "predicted=50.773546, expected=49.000000\n",
      "predicted=50.360918, expected=68.000000\n",
      "predicted=56.261659, expected=44.000000\n",
      "predicted=54.793764, expected=47.000000\n",
      "predicted=52.234486, expected=52.000000\n",
      "predicted=50.894495, expected=44.000000\n",
      "predicted=47.176987, expected=56.000000\n",
      "predicted=49.912386, expected=47.000000\n",
      "predicted=49.605658, expected=51.000000\n",
      "predicted=50.136673, expected=51.000000\n",
      "predicted=50.596200, expected=46.000000\n",
      "predicted=49.058886, expected=46.000000\n",
      "predicted=48.098732, expected=51.000000\n",
      "predicted=48.028607, expected=39.000000\n",
      "predicted=45.613580, expected=37.000000\n",
      "predicted=42.789450, expected=45.000000\n",
      "predicted=41.637647, expected=44.000000\n",
      "predicted=41.468577, expected=48.000000\n",
      "predicted=44.293550, expected=50.000000\n",
      "predicted=46.949339, expected=47.000000\n",
      "predicted=47.731085, expected=42.000000\n",
      "predicted=46.566963, expected=50.000000\n",
      "predicted=46.698666, expected=47.000000\n",
      "predicted=46.425433, expected=41.000000\n",
      "predicted=45.454158, expected=54.000000\n",
      "predicted=47.465287, expected=57.000000\n",
      "predicted=50.040342, expected=56.000000\n",
      "predicted=53.649077, expected=58.000000\n",
      "predicted=56.625882, expected=47.000000\n",
      "predicted=54.234330, expected=44.000000\n",
      "predicted=50.449772, expected=50.000000\n",
      "predicted=48.423661, expected=45.000000\n",
      "predicted=46.411514, expected=50.000000\n",
      "predicted=47.688542, expected=52.000000\n",
      "predicted=49.131402, expected=34.000000\n",
      "predicted=45.337497, expected=59.000000\n",
      "predicted=48.104454, expected=55.000000\n",
      "predicted=49.464626, expected=52.000000\n",
      "predicted=52.645557, expected=50.000000\n",
      "predicted=53.277235, expected=49.000000\n",
      "predicted=50.958591, expected=55.000000\n",
      "predicted=51.353280, expected=54.000000\n",
      "predicted=52.301292, expected=40.000000\n",
      "predicted=49.740810, expected=51.000000\n",
      "predicted=49.199066, expected=49.000000\n"
     ]
    }
   ],
   "source": [
    "predictions = list()\n",
    "dup_actual_test=[]\n",
    "for t in range(61):\n",
    "  model = ARIMA(historical_data, order=(3,1,0))\n",
    "  model_fit = model.fit()\n",
    "  resp = model_fit.forecast()\n",
    "  yhat = resp[0]\n",
    "  predictions.append(yhat)\n",
    "  obs = Test[t]\n",
    "  historical_data.append(obs)\n",
    "  dup_actual_test.append(obs)\n",
    "  print('predicted=%f, expected=%f' % (yhat, obs))"
   ]
  },
  {
   "cell_type": "code",
   "execution_count": 62,
   "metadata": {},
   "outputs": [
    {
     "data": {
      "image/png": "[encoded data removed]",
      "text/plain": [
       "<Figure size 432x288 with 1 Axes>"
      ]
     },
     "metadata": {
      "needs_background": "light"
     },
     "output_type": "display_data"
    },
    {
     "data": {
      "image/png": "[encoded data removed]",
      "text/plain": [
       "<Figure size 432x288 with 1 Axes>"
      ]
     },
     "metadata": {
      "needs_background": "light"
     },
     "output_type": "display_data"
    },
    {
     "name": "stdout",
     "output_type": "stream",
     "text": [
      "**************************************************\n",
      "Statistic Summary of Residuals\n",
      "                0\n",
      "count  262.000000\n",
      "mean     0.006179\n",
      "std      7.105900\n",
      "min    -17.813963\n",
      "25%     -4.769136\n",
      "50%      0.086927\n",
      "75%      4.306663\n",
      "max     20.333983\n",
      "**************************************************\n",
      "Test RMSE: 6.429\n"
     ]
    }
   ],
   "source": [
    "rsd = pnds.DataFrame(model_fit.resid)\n",
    "rsd.plot()\n",
    "plt.title(\"Residuals Plot\")\n",
    "plt.show()\n",
    "\n",
    "# Below is the residuals(errors) density plot\n",
    "rsd.plot(kind='kde')\n",
    "plt.title(\"Graph of Residuals\")\n",
    "plt.show()\n",
    "\n",
    "print(\"*\"*50)\n",
    "\n",
    "print(\"Statistic Summary of Residuals\")\n",
    "print(rsd.describe())\n",
    "\n",
    "print(\"*\"*50)\n",
    "\n",
    "#Calculating rmse value on the test dataset\n",
    "\n",
    "rmse = sqrt(mean_squared_error(Test, predictions))\n",
    "print('Test RMSE: %.3f' % rmse)\n"
   ]
  },
  {
   "cell_type": "code",
   "execution_count": 88,
   "metadata": {},
   "outputs": [],
   "source": [
    "def Forecasted_TS_Visualization(series,forecasted_series,c,model):\n",
    "    fig = plt.figure(figsize=(20, 3))\n",
    "    series.plot(label='Actual')\n",
    "    forecasted_series.plot(label='Forecasted')\n",
    "    plt.xlabel('Date')\n",
    "    plt.ylabel(c)\n",
    "    plt.legend(loc='best')\n",
    "    plt.title('{} model For {}'.format(model,c))\n",
    "    plt.show()"
   ]
  },
  {
   "cell_type": "code",
   "execution_count": 89,
   "metadata": {},
   "outputs": [],
   "source": [
    "predictions=[int(i) for i in predictions]"
   ]
  },
  {
   "cell_type": "code",
   "execution_count": 90,
   "metadata": {},
   "outputs": [],
   "source": [
    "test_df=pnds.DataFrame(columns=[\"Observed\",\"Predicted\"])\n",
    "test_df[\"Observed\"]=dup_actual_test\n",
    "test_df[\"Predicted\"]=predictions"
   ]
  },
  {
   "cell_type": "code",
   "execution_count": 91,
   "metadata": {},
   "outputs": [
    {
     "data": {
      "image/png": "[encoded data removed]",
      "text/plain": [
       "<Figure size 1440x216 with 1 Axes>"
      ]
     },
     "metadata": {
      "needs_background": "light"
     },
     "output_type": "display_data"
    }
   ],
   "source": [
    "Forecasted_TS_Visualization(test_df[\"Observed\"],test_df[\"Predicted\"],\"Vaccines per day\",\"ARIMA\")"
   ]
  },
  {
   "cell_type": "code",
   "execution_count": null,
   "metadata": {},
   "outputs": [],
   "source": []
  }
 ],
 "metadata": {
  "kernelspec": {
   "display_name": "Python 3",
   "language": "python",
   "name": "python3"
  },
  "language_info": {
   "codemirror_mode": {
    "name": "ipython",
    "version": 3
   },
   "file_extension": ".py",
   "mimetype": "text/x-python",
   "name": "python",
   "nbconvert_exporter": "python",
   "pygments_lexer": "ipython3",
   "version": "3.7.4"
  }
 },
 "nbformat": 4,
 "nbformat_minor": 2
}
